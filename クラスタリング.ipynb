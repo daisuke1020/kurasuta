{
 "cells": [
  {
   "cell_type": "markdown",
   "id": "2976559d-5489-4dfa-b241-c86bfd8bbbc8",
   "metadata": {},
   "source": [
    "# クラスタリング"
   ]
  },
  {
   "cell_type": "markdown",
   "id": "1ffdfcde-909d-404b-a60c-5a5cea832e4d",
   "metadata": {},
   "source": [/Users/daisukesatou/diveintocode-ml/term_1/クラスタリング.ipynb
    "## クラスタリングのための人工データセット"
   ]
  },
  {
   "cell_type": "code",
   "execution_count": 1,
   "id": "bbf1813f-ba07-4cc0-bd14-fa9874ee8e78",
   "metadata": {},
   "outputs": [],
   "source": [
    "from sklearn.datasets import make_blobs\n",
    "X, _ = make_blobs(n_samples=100, n_features=2, centers=4, cluster_std=0.5, shuffle=True, random_state=0)\n"
   ]
  },
  {
   "cell_type": "code",
   "execution_count": 2,
   "id": "60ed5772-2b79-4594-8c74-7b15fb78cb9f",
   "metadata": {},
   "outputs": [
    {
     "name": "stdout",
     "output_type": "stream",
     "text": [
      "(100, 2)\n"
     ]
    }
   ],
   "source": [
    "print(X.shape)"
   ]
  },
  {
   "cell_type": "code",
   "execution_count": 19,
   "id": "b6cac0f5-8f2c-4126-aac6-3785721c3ae0",
   "metadata": {},
   "outputs": [],
   "source": [
    "import numpy as np\n",
    "import math\n",
    "from sklearn.model_selection import train_test_split\n",
    "import matplotlib.pyplot as plt\n",
    "%matplotlib inline\n",
    "import warnings                      #ワーニング関連のモジュール？\n",
    "warnings.filterwarnings('ignore')    #ワーニングが消える？"
   ]
  },
  {
   "cell_type": "code",
   "execution_count": 4,
   "id": "7a62190a-c602-4745-b3fe-bfef61856600",
   "metadata": {},
   "outputs": [],
   "source": [
    "y = np.ones([X.shape[0]])\n",
    "# Xの行と列を簡略化\n",
    "x_0 = X.shape[0]\n",
    "x_1 = X.shape[1]"
   ]
  },
  {
   "cell_type": "markdown",
   "id": "9cbe5767-6224-4f95-bfc7-7459ee61043c",
   "metadata": {},
   "source": [
    "## 学習"
   ]
  },
  {
   "cell_type": "markdown",
   "id": "a8318d24-870a-4be3-b8f8-a3c8e591e45f",
   "metadata": {},
   "source": [
    "## 【問題1】中心点の初期値を決める"
   ]
  },
  {
   "cell_type": "markdown",
   "id": "329b468b-dd8d-478b-809f-470c75d27502",
   "metadata": {},
   "source": [
    "### 入力されたデータから $K$ 個の中心点 $\\mu_1$ から $\\mu_K$ の初期値を決めるコードを作成してください。$K$ は指定したクラスタ数です。\n",
    "\n",
    "### 最もシンプルな初期値の決定方法は、データ点 $X_n$ の中からランダムに $K$ 個選ぶことです。今回はこれを実装してください。\n",
    "\n",
    "### K-meansの学習結果は中心点 $\\mu$ の初期値に影響を受けます。そのため、学習時には複数個の初期値で計算を行います。"
   ]
  },
  {
   "cell_type": "code",
   "execution_count": 5,
   "id": "eb2f9a22-0bb7-42d6-b8c0-76367905b1ac",
   "metadata": {},
   "outputs": [],
   "source": [
    "\"\"\"与えられたXからK個のクラスタ（中心点）をランダムに選ぶ\"\"\"\n",
    "k = np.random.randint(0,x_0,5)\n",
    "k_ =np.array([])\n",
    "#ランダムに選んだクラスタ用のXの値を格納する為の繰り返し処理\n",
    "for i in range(len(k)):\n",
    "    k_ = np.append(k_,X[k[i]])\n",
    "\"\"\"reshapeしているが、もっといい方法があると思う\"\"\"\n",
    "k_ = k_.reshape(len(k),x_1)"
   ]
  },
  {
   "cell_type": "code",
   "execution_count": null,
   "id": "a8e1ff9e-1f2d-4b8f-b265-1e896e7a2e39",
   "metadata": {},
   "outputs": [],
   "source": []
  },
  {
   "cell_type": "markdown",
   "id": "3a679e8c-43f5-4a16-909e-97f75dff2919",
   "metadata": {},
   "source": [
    "## 【問題2】SSEを求める関数の作成"
   ]
  },
  {
   "cell_type": "markdown",
   "id": "6e98fb52-88d0-4c99-b89e-4b5561c9397a",
   "metadata": {},
   "source": [
    "### クラスタ内誤差平方和（SSE, Sum of Squared Errors）を計算する関数を作成してください。\n",
    "\n",
    "### K-meansはこのSSEを最小化する $r_{nk}$ と $\\mu_k$ を求めることが目的となります。複数個の初期値で計算したクラスタリング結果から、どれを最終的に採用するかを決める際にこのSSEを求める関数を使用します。"
   ]
  },
  {
   "cell_type": "markdown",
   "id": "472b2ad9-3fa8-408f-9762-875d9584116d",
   "metadata": {},
   "source": [
    "$$\n",
    "SSE=∑^N_{n=1} ∑^K_{k=1} r_{nk}∥X_n−μ_k∥^2\n",
    "$$"
   ]
  },
  {
   "cell_type": "markdown",
   "id": "2e758a47-65d9-45d7-841a-f47eacb2097d",
   "metadata": {},
   "source": [
    "$n$ : データ点のインデックス\n",
    "\n",
    "$k$ : クラスタのインデックス\n",
    "\n",
    "$X_n$ : $n$番目のデータ点\n",
    "\n",
    "$\\mu_k$ : $k$番目の中心点\n",
    "\n",
    "$r_{nk}$ : データ点$X_n$がクラスタ$k$に所属していたら1、そうでなければ0"
   ]
  },
  {
   "cell_type": "markdown",
   "id": "684c934f-7151-4044-9750-52f79e7d830c",
   "metadata": {},
   "source": [
    "### クラスタの割り当てと中心点の移動を繰り返す"
   ]
  },
  {
   "cell_type": "markdown",
   "id": "8b432b1e-727d-4706-9282-93465b72b460",
   "metadata": {},
   "source": [
    "K-meansの学習の基本は以下の2つのフェーズを繰り返すことです。\n",
    "\n",
    "\n",
    "- 中心点 $\\mu_k$ を固定した上で $SSE$ を最小化する クラスタの割り当て $r_{nk}$ を選ぶ。\n",
    "- クラスタの割り当て $r_{nk}$ を固定した上で $SSE$ を最小化する 中心点 $\\mu_k$ を選ぶ。\n",
    "\n",
    "最初の中心点 $\\mu_k$ は問題1で作成した初期値です。\n",
    "\n",
    "\n",
    "順番に見ていきます。"
   ]
  },
  {
   "cell_type": "code",
   "execution_count": 6,
   "id": "90c3a4ca-9a77-47ad-bad9-2bd8788ac946",
   "metadata": {},
   "outputs": [],
   "source": [
    "def _sse(X):\n",
    "    # sseの値を０で初期化\n",
    "    sse = 0\n",
    "    # データ数分繰り返し処理\n",
    "    for j in range(x_0):\n",
    "        # クラスタ分繰り返し処理\n",
    "        for i in range(5):\n",
    "            # y[j]=クラスタ番号が入っているのでi番目のクラスタと一致不一致を確認\n",
    "            if y[j] == i:\n",
    "                r_nk = 1\n",
    "            else:\n",
    "                r_nk = 0\n",
    "                # SSEの右側の式\n",
    "                ans_1 = r_nk*(X[j] - X[i])**2\n",
    "                # sseの値を＋で更新\n",
    "                sse += ans_1\n",
    "        # 最終的なsseの値を返す\n",
    "    return sse"
   ]
  },
  {
   "cell_type": "code",
   "execution_count": null,
   "id": "d5f1487b-af9e-4916-900f-c4c0c28a8520",
   "metadata": {},
   "outputs": [],
   "source": []
  },
  {
   "cell_type": "markdown",
   "id": "1b43b80e-7af1-4f28-b1d3-0270c1b0c4fa",
   "metadata": {},
   "source": [
    "## 【問題3】クラスタへの割り当て"
   ]
  },
  {
   "cell_type": "markdown",
   "id": "1088fe56-a611-4c8e-bdd9-b3fd05073afc",
   "metadata": {},
   "source": [
    "### すべてのデータ点 $X_n$ を最も近い中心点 $\\mu_k$ に割り当てるコードを作成してください。\n",
    "\n",
    "### K-menasにおける 近い とは点と点のユークリッド距離が小さくなることです。ユークリッド距離とはピタゴラスの定理（三平方の定理）で求められるものですが、ベクトル $p,q$ に対しては以下の数式で表現できます。"
   ]
  },
  {
   "cell_type": "markdown",
   "id": "16769b02-6109-46cf-a774-f28061b80baa",
   "metadata": {},
   "source": [
    "$$\n",
    "∥q−p∥=√(q−p)⋅(q−p)\n",
    "$$"
   ]
  },
  {
   "cell_type": "markdown",
   "id": "e025332b-1a3d-44bd-8de4-3db62ba531e9",
   "metadata": {},
   "source": [
    "### NumPyにはこの関数がnp.linalg.normとして用意されているため使用してください。\n",
    "\n",
    "### numpy.linalg.norm — NumPy v1.17 Manual\n",
    "\n",
    "### 中心点 $\\mu_k$ を固定した上でSSEを最小化していることになりますが、SSE自体を求める必要はありません。"
   ]
  },
  {
   "cell_type": "code",
   "execution_count": 7,
   "id": "e66a4f5a-67ce-4fbe-9a39-831f4523be4d",
   "metadata": {},
   "outputs": [],
   "source": [
    "from numpy import linalg as LA"
   ]
  },
  {
   "cell_type": "code",
   "execution_count": 8,
   "id": "e5bb9f6a-1bfe-4b0b-a5ce-b2c2d2310616",
   "metadata": {},
   "outputs": [],
   "source": [
    "# 全てのデータ点をもっとも近い中心点に割り当てるコードを作成\n",
    "\n",
    "for j in range(x_0):  #100\n",
    "    # とりあえずl2を10で初期化\n",
    "    l2 = 10\n",
    "    for i in range(5):  #5\n",
    "        # ユークリッド距離を求める\n",
    "        l = math.sqrt((X[j,0]-k_[i,0])**2 + (X[j,1] - k_[i,1])**2)\n",
    "\n",
    "        if  l2 > l:\n",
    "            # l2より値が小さければl2を上書き\n",
    "            l2 = l\n",
    "            # 最終的に最小値になった組み合わせのクラスタに所属させる\n",
    "            # yの配列に確定したクラスタ番号を上書きする\n",
    "            y[j] = i"
   ]
  },
  {
   "cell_type": "markdown",
   "id": "cc16a6de-285f-4555-ad8f-ce8a963fc31e",
   "metadata": {},
   "source": [
    "## 【問題4】中心点の移動"
   ]
  },
  {
   "cell_type": "markdown",
   "id": "3ce14a97-ca6e-4fbc-a8ab-9d37941f90a8",
   "metadata": {},
   "source": [
    "### 中心点 $\\mu_k$ を $k$ 番目のクラスタに割り当てられるすべてのデータ点 $X_n$ の平均値（重心）に移動するコードを作成してください。\n",
    "\n",
    "### クラスタの割り当て $r_{nk}$ を固定した上でSSEを最小化していることになりますが、SSE自体を求める必要はありません。"
   ]
  },
  {
   "cell_type": "code",
   "execution_count": 9,
   "id": "1102436a-d856-4fa4-b277-180d9e64869f",
   "metadata": {},
   "outputs": [],
   "source": [
    "for i in range(5): #5\n",
    "    count = 0\n",
    "    sum_ = np.array([])\n",
    "    # 各クラスタごとにデータを全てマッチさせてみる\n",
    "    for j in range(x_0): # 100\n",
    "        # クラスタとyの中の番号を比較して同じ値なら\n",
    "        # 値を追加していく\n",
    "        if y[j] == i:\n",
    "            count += 1\n",
    "            sum_ =np.append(sum_,X[j])\n",
    "    # クラスタの列の合計値を平均化する\n",
    "    sum_ = sum_.reshape(-1,2)\n",
    "    k_mean_ = np.mean(sum_,axis = 0)\n",
    "    k_[i] = k_mean_"
   ]
  },
  {
   "cell_type": "code",
   "execution_count": null,
   "id": "d0a49880-b512-4af2-9ab8-85322357edb3",
   "metadata": {},
   "outputs": [],
   "source": []
  },
  {
   "cell_type": "markdown",
   "id": "5374d938-5a5e-45a4-a53c-4459cf3809c1",
   "metadata": {},
   "source": [
    "## 【問題5】繰り返し"
   ]
  },
  {
   "cell_type": "markdown",
   "id": "c056f789-c5be-4cf9-957f-6c5365b9dfa2",
   "metadata": {},
   "source": [
    "### クラスタへの割り当てと中心点の移動を繰り返すことで学習を行うコードを作成してください。\n",
    "\n",
    "\n",
    "### 次のどれかの条件を満たしたらこれを止めます。\n",
    "\n",
    "\n",
    "- 繰り返しが指定した回数に到達する。（雛形では引数max_iter）\n",
    "- 中心点 $\\mu_k$ と重心の差の合計が指定した許容値以下になる。（雛形では引数tol）"
   ]
  },
  {
   "cell_type": "code",
   "execution_count": 10,
   "id": "1e88dcb2-cdb1-4442-a954-d47808bb441b",
   "metadata": {},
   "outputs": [],
   "source": [
    "max_iter = 20\n",
    "for i in range(max_iter):\n",
    " \n",
    "        break"
   ]
  },
  {
   "cell_type": "code",
   "execution_count": null,
   "id": "c7834af9-cad5-4a2e-b396-90b096d491ce",
   "metadata": {},
   "outputs": [],
   "source": []
  },
  {
   "cell_type": "markdown",
   "id": "1d3d7292-1a16-4495-b26b-589121eee919",
   "metadata": {},
   "source": [
    "## 【問題6】異なる初期値で計算"
   ]
  },
  {
   "cell_type": "markdown",
   "id": "12d47b1f-6d8f-40d5-b481-c4c05e987621",
   "metadata": {},
   "source": [
    "### 問題5の繰り返しを、指定した回数初期値を変更して計算するコードを作成してください。回数は雛形では引数n_initで指定します。\n",
    "\n",
    "## 複数計算した中でSSEが最小になったものが最終的な学習結果となるため、その時の中心点 $\\mu_k$ を保持しておきます。"
   ]
  },
  {
   "cell_type": "code",
   "execution_count": 11,
   "id": "8e551da3-1e39-4c69-b35a-18e767ae54f8",
   "metadata": {},
   "outputs": [],
   "source": [
    "n_init=5\n",
    "sse = 10\n",
    "n = 0"
   ]
  },
  {
   "cell_type": "code",
   "execution_count": null,
   "id": "8cc8d078-a479-4e41-aaba-567803497445",
   "metadata": {},
   "outputs": [],
   "source": []
  },
  {
   "cell_type": "markdown",
   "id": "8a6d4560-616a-442a-b585-5c8c9accfbd7",
   "metadata": {},
   "source": [
    "## 【問題7】推定 "
   ]
  },
  {
   "cell_type": "markdown",
   "id": "61c58980-9c21-452d-81b1-f670ba886277",
   "metadata": {},
   "source": [
    "### 新たなデータに対してどのクラスタに所属するかの推定の際は、学習時の1つ目のフェーズと同じことを行います。\n",
    "\n",
    "\n",
    "- データ点 $X_n$ と学習で決まった中心点 $\\mu_k$ に対し、 $SSE$ を最小化する $r_{nk}$ を選ぶ。\n",
    "\n",
    "### 具体的には次のことです。\n",
    "\n",
    "\n",
    "- データ点 $X_n$ を最も近い $\\mu_k$ に割り当てる。"
   ]
  },
  {
   "cell_type": "code",
   "execution_count": 12,
   "id": "6d9f0f0e-8490-4729-a2f3-1c7315375e29",
   "metadata": {},
   "outputs": [],
   "source": [
    "def predict(X):\n",
    "    label = y_pred\n",
    "    return "
   ]
  },
  {
   "cell_type": "markdown",
   "id": "e5ece060-db44-4042-8dc8-267ba840beb2",
   "metadata": {},
   "source": [
    "## 【問題8】エルボー法の実装"
   ]
  },
  {
   "cell_type": "markdown",
   "id": "d361c5de-d9a2-4d24-9645-28086416a92a",
   "metadata": {},
   "source": [
    "### K-meansにおいて中心点の個数 $k$ は人為的に決める必要がありますが、その判断方法としてエルボー法があります。エルボー法により中心点の個数 $k$ を検討するためのコードを作成してください。\n",
    "\n",
    "### SSEを縦軸、クラスタ数 $k$ を横軸にした折れ線グラフを表示します。このためにK-meansのインスタンスからはSSEを取得できるようにしてください。"
   ]
  },
  {
   "cell_type": "code",
   "execution_count": 16,
   "id": "10134d24-555b-4909-b35f-980f6cf1cf3a",
   "metadata": {},
   "outputs": [],
   "source": [
    "SSE = []\n",
    "sse = 100\n"
   ]
  },
  {
   "cell_type": "code",
   "execution_count": null,
   "id": "ddd7d3ac-49d6-41bd-b570-94149f0f11f1",
   "metadata": {},
   "outputs": [],
   "source": []
  },
  {
   "cell_type": "markdown",
   "id": "64fa14cd-5084-46af-87d1-8052beb6b6fa",
   "metadata": {},
   "source": [
    "## 実装"
   ]
  },
  {
   "cell_type": "code",
   "execution_count": 102,
   "id": "ca9f7380-05ad-4731-95ec-cd80e1f041f6",
   "metadata": {},
   "outputs": [],
   "source": [
    "class ScratchKMeans():\n",
    "    \"\"\"\n",
    "    K-meansのスクラッチ実装\n",
    "    Parameters\n",
    "    ----------\n",
    "    n_clusters : int\n",
    "      クラスタ数\n",
    "    n_init : int\n",
    "      中心点の初期値を何回変えて計算するか\n",
    "    max_iter : int\n",
    "      1回の計算で最大何イテレーションするか\n",
    "    tol : float\n",
    "      イテレーションを終了する基準となる中心点と重心の許容誤差\n",
    "    verbose : bool\n",
    "      学習過程を出力する場合はTrue\n",
    "    \"\"\"\n",
    "    def __init__(self, n_clusters, n_init, max_iter, tol, verbose=False):\n",
    "        # ハイパーパラメータを属性として記録\n",
    "        self.n_clusters = n_clusters\n",
    "        self.n_init = n_init\n",
    "        self.max_iter = max_iter\n",
    "        self.tol = tol\n",
    "        self.verbose = verbose\n",
    "\n",
    "        \n",
    "        # Xの行と列を簡略化\n",
    "        self.X = X\n",
    "        self.x_0 = X.shape[0]\n",
    "        self.x_1 = X.shape[1]\n",
    "\n",
    "\n",
    "    def fit(self, X):\n",
    "        \"\"\"\n",
    "        K-meansによるクラスタリングを計算\n",
    "        Parameters\n",
    "        ----------\n",
    "        X : 次の形のndarray, shape (n_samples, n_features)\n",
    "            訓練データの特徴量\n",
    "        \"\"\"\n",
    "        \"\"\"   5   \"\"\"\n",
    "        \n",
    "        self.y = np.ones([X.shape[0]])\n",
    "        \n",
    "        # クラスタの数を変えて繰り返し処理\n",
    "        for i in range(self.n_init):       \n",
    "            self.SSE = np.array([])\n",
    "            \n",
    "            # 学習回数分繰り返し処理\n",
    "            for j in range(self.max_iter):\n",
    "                \n",
    "                \n",
    "                \"\"\"   1   \"\"\"\n",
    "                \"\"\"与えられたXからK個のクラスタ（中心点）をランダムに選ぶ\"\"\"\n",
    "\n",
    "                k = np.random.randint(0,self.x_0,self.n_clusters)\n",
    "                k_ =np.array([])\n",
    "                #ランダムに選んだクラスタ用のXの値を格納する為の繰り返し処理\n",
    "                for i in range(len(k)):\n",
    "                    k_ = np.append(k_,self.X[k[i]])\n",
    "                \"\"\"reshapeしているが、もっといい方法があると思う\"\"\"\n",
    "                k_ = k_.reshape(len(k),self.x_1)\n",
    "\n",
    "                \"\"\"   3   \"\"\"\n",
    "                \"\"\"クラスタへの割り当て\"\"\"\n",
    "                for j in range(self.x_0):  #100\n",
    "                    # とりあえずl2を10で初期化\n",
    "                    l2 = 10\n",
    "                    for i in range(5):  #5\n",
    "                        # ユークリッド距離を求める\n",
    "                        l = math.sqrt((self.X[j,0]-k_[i,0])**2 + (self.X[j,1] - k_[i,1])**2)\n",
    "\n",
    "                        if  l2 > l:\n",
    "                            # l2より値が小さければl2を上書き\n",
    "                            l2 = l\n",
    "                            # 最終的に最小値になった組み合わせのクラスタに所属させる\n",
    "                            # yの配列に確定したクラスタ番号を上書きする\n",
    "                            y[j] = i\n",
    "\n",
    "                \"\"\"   4   \"\"\"\n",
    "                \"\"\"中心点の移動\"\"\"\n",
    "                for i in range(5): #5\n",
    "                    count = 0\n",
    "                    sum_ = np.array([])\n",
    "                    # 各クラスタごとにデータを全てマッチさせてみる\n",
    "                    for j in range(x_0): # 100\n",
    "                        # クラスタとyの中の番号を比較して同じ値なら\n",
    "                        # 値を追加していく\n",
    "                        if y[j] == i:\n",
    "                            count += 1\n",
    "                            sum_ =np.append(sum_,self.X[j])\n",
    "                    # クラスタの列の合計値を平均化する\n",
    "                    sum_ = sum_.reshape(-1,2)\n",
    "                    k_mean_ = np.mean(sum_,axis = 0)\n",
    "                    k_[i] = k_mean_\n",
    "                sse = self._sse(self.X)\n",
    "                self.SSE = np.append(self.SSE,sse)\n",
    "\n",
    "                    \n",
    "        \n",
    "                # if self.verbose:\n",
    "                #     #verboseをTrueにした際は学習過程を出力\n",
    "                #     print()\n",
    "                # pass\n",
    "\n",
    "    def _sse(self,X):\n",
    "        # sseの値を０で初期化\n",
    "        sse = 0\n",
    "        # データ数分繰り返し処理\n",
    "        for j in range(self.x_0):\n",
    "            # クラスタ分繰り返し処理\n",
    "            for i in range(5):\n",
    "                # y[j]=クラスタ番号が入っているのでi番目のクラスタと一致不一致を確認\n",
    "                if y[j] == i:\n",
    "                    r_nk = 1\n",
    "                else:\n",
    "                    r_nk = 0\n",
    "                    # SSEの右側の式\n",
    "                    ans_1 = r_nk*(self.X[j] - self.X[i])**2\n",
    "                    # sseの値を＋で更新\n",
    "                    sse += ans_1\n",
    "            # 最終的なsseの値を返す\n",
    "        return sse\n",
    "        \n",
    "    def predict(self, X):\n",
    "        \"\"\"\n",
    "        入力されたデータがどのクラスタに属するかを計算\n",
    "        \"\"\"\n",
    "        label = y\n",
    "        return label\n",
    "    \n",
    "    def SSE(self,X):\n",
    "        sse = np.array([self.SSE])\n",
    "        return sse"
   ]
  },
  {
   "cell_type": "code",
   "execution_count": 106,
   "id": "4595dc61-8b63-42dd-ba2c-66fdd8addc07",
   "metadata": {},
   "outputs": [
    {
     "name": "stdout",
     "output_type": "stream",
     "text": [
      "[4. 0. 3. 3. 3. 1. 2. 3. 0. 4. 2. 3. 4. 1. 1. 1. 0. 4. 2. 0. 3. 0. 3. 0.\n",
      " 4.]\n",
      "[1. 4. 1. 1. 1. 1. 2. 4. 1. 4. 4. 4. 4. 4. 4. 3. 3. 0. 2. 3. 1. 4. 2. 3.\n",
      " 1. 2. 0. 1. 3. 3. 3. 4. 3. 3. 0. 1. 4. 3. 4. 2. 1. 0. 4. 2. 2. 4. 3. 2.\n",
      " 1. 1. 1. 3. 0. 2. 0. 4. 4. 3. 3. 4. 4. 3. 3. 1. 3. 4. 2. 2. 3. 1. 4. 3.\n",
      " 1. 4. 1. 1. 0. 2. 3. 3. 3. 4. 0. 1. 3. 0. 3. 3. 1. 1. 1. 2. 1. 0. 2. 4.\n",
      " 4. 0. 4. 0.]\n"
     ]
    }
   ],
   "source": [
    "X_train, X_test, y_train, y_test = train_test_split(X, y, test_size=0.25)\n",
    "\n",
    "'''クラスタリングモデルの作成'''\n",
    "\n",
    "#モジュール読み込み、モデル構築\n",
    "skm = ScratchKMeans(10,10,10,10)\n",
    "\n",
    "#モデルの学習\n",
    "\n",
    "skm.fit(X_train)\n",
    "y_pred = skm.predict(X_test)\n",
    "print(y_test)\n",
    "print(y_pred)"
   ]
  },
  {
   "cell_type": "code",
   "execution_count": 105,
   "id": "040f77a9-883b-483f-9afa-d13964e7586a",
   "metadata": {},
   "outputs": [],
   "source": [
    "#sse = skm.SSE(X_test)\n",
    "#print(sse)"
   ]
  },
  {
   "cell_type": "code",
   "execution_count": 92,
   "id": "ad1098ed-7b88-405d-a6e8-f18092ae0d16",
   "metadata": {},
   "outputs": [
    {
     "name": "stdout",
     "output_type": "stream",
     "text": [
      "[870.2611797855424, 351.48372865125435, 139.1709777203381, 48.63378320706403, 43.00519867163704, 38.61292568148851, 34.895762201723954, 29.350916853852073, 26.791013102415064, 23.225672549493954]\n"
     ]
    },
    {
     "data": {
      "image/png": "iVBORw0KGgoAAAANSUhEUgAAAYUAAAEGCAYAAACKB4k+AAAAOXRFWHRTb2Z0d2FyZQBNYXRwbG90bGliIHZlcnNpb24zLjMuNCwgaHR0cHM6Ly9tYXRwbG90bGliLm9yZy8QVMy6AAAACXBIWXMAAAsTAAALEwEAmpwYAAAjgElEQVR4nO3deZxU9Znv8c9TVb2xNtAFQoMBoRsVFFDEKNodJQaTmMjomJiZJEzGiXMnJjFxyYTcrJMxkhidyZ07ycRoJmTixEuMC8kYlbiAWUQRVEB2AWVRWval6aXquX/U6ba6aehu6OpTy/f9evmqs9Z5CqG+dX7nnN/P3B0RERGASNgFiIhI9lAoiIhIK4WCiIi0UiiIiEgrhYKIiLSKhV3AyaioqPDRo0eHXYaISE558cUX33b3eEfrcjoURo8ezdKlS8MuQ0Qkp5jZlmOtU/ORiIi0UiiIiEgrhYKIiLRSKIiISCuFgoiItMrpu49O1MPLt3HH42vZvreeEeVl3DpzPLOmVIZdlohI6AouFB5evo05D66gvikBwLa99cx5cAWAgkFECl7BNR/d8fja1kBoUd+U4I7H14ZUkYhI9ii4UNi+t75by0VECknBhcKI8rJuLRcRKSQFFwq3zhxPWVG0zbKyoii3zhwfUkUiItmj4C40t1xM/tZvVrHncBMV/Yr56gfP1EVmEREK8EwBUsHwzC2XEDH4q2mnKhBERAIFGQoAA/sUMXlUOYvW1YVdiohI1ijYUACorR7KK9v2sftQY9iliIhkhYIOhZrqCtzh2fU6WxARgQIPhbNHllPep4jF694OuxQRkaxQ0KEQjRgXV8VZvL4Odw+7HBGR0BV0KADUVFVQd6CB1TsOhF2KiEjoCj4UaqtTY1frLiQREYUCQweUcvop/VmsUBARyWwomNkXzWyVma00s1+aWamZDTazhWa2PngdlLb9HDPbYGZrzWxmJmtLVzs+ztItuznU0NxbhxQRyUoZCwUzqwQ+D0x194lAFLgW+DLwpLtXAU8G85jZmcH6CcDlwA/NLNrRe/e02qo4TQnnzxt39cbhRESyVqabj2JAmZnFgD7AduBKYF6wfh4wK5i+Erjf3RvcfROwAZiW4foAOHf0IPoUR3VdQUQKXsZCwd23Ad8HXgd2APvc/QlgmLvvCLbZAQwNdqkE3kh7i63BsowriUW54LQhLNZDbCJS4DLZfDSI1K//McAIoK+Zffx4u3Sw7KiHB8zsejNbamZL6+p67ku8dnycLbsOs/ntQz32niIiuSaTzUfvBTa5e527NwEPAhcCb5nZcIDgdWew/VZgVNr+I0k1N7Xh7ne7+1R3nxqPx3us2Jqq1HvpbEFEClkmQ+F14N1m1sfMDJgBrAYWALODbWYDjwTTC4BrzazEzMYAVcDzGayvjdEVfXnXkD4sWqtQEJHClbFBdtx9iZk9ACwDmoHlwN1AP2C+mV1HKjiuCbZfZWbzgVeD7W9w90Sm6utITVWcXy/bSkNzgpJYr9z4JCKSVTJ695G7f8PdT3f3ie7+ieDOol3uPsPdq4LX3Wnb3+buY919vLv/LpO1daS2Os7hxgQvbt7T24cWEckKBf9Ec7oLxg6hKGos0nUFESlQCoU0fUtiTH3XYF1XEJGCpVBop6Y6zpo3D/DW/iNhlyIi0usUCu209JqqDvJEpBApFNo5Y3h/4v1LWLxeo7GJSOFRKLRjZtRUxXl2fR2JpEZjE5HColDoQE11BXsPN/HK1r1hlyIi0qsUCh24uCqOGSxepyYkESksCoUODO5bzNmVA1m0bmfnG4uI5BGFwjHUVsd56Y297DvcFHYpIiK9RqFwDDXVcZIOf9igJiQRKRwKhWOYPKqc/qUxPa8gIgVFoXAMsWiEi8ZVsGhdHe66NVVECoNC4Thqq+O8uf8I63ceDLsUEZFeoVA4jpqgywt1kCcihUKhcBwjysuoGtpPQ3SKSMFQKHSitjrOkk27qW/s1UHgRERCoVDoRE11nMbmJM9t2hV2KSIiGadQ6MS0MYMpLYrouoKIFASFQidKi6KcP2aIriuISEFQKHRBbXWc1+oO8cbuw2GXIiKSUQqFLmi5NVVnCyKS7xQKXTA23pfK8jJdVxCRvKdQ6AIzo6Y6zp827qIpkQy7HBGRjFEodFFtdZyDDc0s27In7FJERDJGodBFF44bQjRiuq4gInlNodBFA0qLOPfUQSxSV9oikscUCt1QU13Bym37eftgQ9iliIhkhEKhG2qrhwLwrJqQRCRPKRS6YcKIAQzpW8zidRqiU0Tyk0KhGyIR4+KqChavqyOZ1GhsIpJ/FArdVFMdZ9ehRl7dsT/sUkREepxCoZsurgpGY9NdSCKShxQK3RTvX8KEEQMUCiKSlxQKJ6C2Os6yLXs4cKQp7FJERHqUQuEE1FTHaU46f9qo0dhEJL8oFE7AOacOol9JTE1IIpJ3FAonoDgW4YKxQ1i8rg533ZoqIvkjo6FgZuVm9oCZrTGz1WZ2gZkNNrOFZrY+eB2Utv0cM9tgZmvNbGYmaztZtdVxtu6p57W3D4VdiohIj8n0mcIPgMfc/XRgErAa+DLwpLtXAU8G85jZmcC1wATgcuCHZhbNcH0nrLZlNDY1IYlIHslYKJjZAKAGuBfA3RvdfS9wJTAv2GweMCuYvhK4390b3H0TsAGYlqn6TtaowX04raKvriuISF7J5JnCaUAd8J9mttzM7jGzvsAwd98BELwODbavBN5I239rsKwNM7vezJaa2dK6unC/kGuq4zz32i6ONCVCrUNEpKdkMhRiwDnAj9x9CnCIoKnoGKyDZUddxXX3u919qrtPjcfjPVPpCaqtjnOkKckLm3eHWoeISE/JZChsBba6+5Jg/gFSIfGWmQ0HCF53pm0/Km3/kcD2DNZ30s4/bTDF0QiL1qoJSUTyQ8ZCwd3fBN4ws/HBohnAq8ACYHawbDbwSDC9ALjWzErMbAxQBTyfqfp6Qp/iGNPGDNYQnSKSN2IZfv/PAfeZWTHwGvApUkE038yuA14HrgFw91VmNp9UcDQDN7h71jfW11RX8J1H17B9bz0jysvCLkdE5KRk9JZUd38paP8/291nufsed9/l7jPcvSp43Z22/W3uPtbdx7v77zJZW0/RaGwikk/0RPNJqh7Wj1MGlOrWVBHJCwqFk2Rm1FRX8If1b9OcSIZdjojISVEo9IDa6qHsP9LMy1v3hl2KiMhJUSj0gIvGVRAxWLTu7bBLERE5KQqFHjCwTxGTR5XruoKI5DyFQg+pqY7zyta97DnUGHYpIiInTKHQQ2qr47jDsxvUhCQiuUuh0EPOHllOeZ8idaUtIjlNodBDohHjonEVGo1NRHKaQqEH1VTH2XmggTVvHgi7FBGRE6JQ6EEto7HpLiQRyVUKhR40bEApp5/SX9cVRCRnKRR6WG11nBc27+ZQQ3PYpYiIdJtCoYfVVMdpSjjPvbYr7FJERLpNodDDpo4eRFlRVNcVRCQnKRR6WEksygVjh+i6gojkJIVCBtRWx9m86zBbdh0KuxQRkW5RKGRATXBrqs4WRCTXKBQyYPSQPpw6uI+uK4hIzlEoZEDLaGx/2riLxmaNxiYiuUOhkCG11UM53Jhg6ZbdYZciItJlCoUMuWDsEGIRY7FGYxORHKJQyJB+JTGmjh6k6woiklOOGwpmNuA4607t+XLyS011nNU79rNz/5GwSxER6ZLOzhSeaZkwsyfbrXu4p4vJNy29pi5eryYkEckNnYWCpU0PPs466cAZpwygol+JnlcQkZzRWSj4MaY7mpd2IpHUranPrq8jkdQfl4hkv1gn64ea2U2kzgpapgnm4xmtLE/UVsd5cNk2Vm7bx6RR5WGXIyJyXJ2dKfwE6A/0S5tumb8ns6Xlh4vGVWCm0dhEJDcc90zB3b/VW4XkqyH9Sji7ciCL1tXx+RlVYZcjInJcnd2S+mkzqwqmzcx+amb7zOwVM5vSOyXmvprqOMtf38O+w01hlyIiclydNR/dCGwOpj8GTAJOA24C/k/mysovtdVxkg5/3KhbU0Uku3UWCs3u3vLz9grg5+6+y91/D/TNbGn5Y/KocvqXxnRrqohkvc5CIWlmw82sFJgB/D5tXVnmysovsWiEi8ZVsGhdHe66NVVEsldnofB1YCmpJqQF7r4KwMxqgdcyW1p+qamOs2PfETbsPBh2KSIix9TZcwpvARcAB9x9j5l9Erg6WH59povLJy2jsS1aV0fVsP4hVyMi0rHOzhR+DBwMAqEGmAv8nFQo/CDTxeWTyvIyxg3tp+cVRCSrdRYKUXdvGSXmo8Dd7v5rd/8aMC6zpeWf2uo4Szbtpr4xEXYpIiId6jQUzKyliWkG8FTaus6angAws6iZLTez3wbzg81soZmtD14HpW07x8w2mNlaM5vZnQ+SC2qq4zQ2J1myaVfYpYiIdKizUPglsMjMHgHqgWcBzGwcsK+Lx7gRWJ02/2XgSXevAp4M5jGzM4FrgQnA5cAPzSzaxWPkhPPHDKYkFlETkohkreOGgrvfBtwM/Ay4yN+5nzICfK6zNzezkcAHadtP0pXAvGB6HjArbfn97t7g7puADcC0Ln2KHFFaFOX804boeQURyVqdDsfp7s+5+0Pufiht2Tp3X9aF9/9X4EtAMm3ZMHffEbzPDmBosLwSeCNtu63BsjbM7HozW2pmS+vqcu/LtbY6zsa6Q2zdczjsUkREjpKxMZrN7Apgp7u/2NVdOlh21JNe7n63u09196nxeO713l1bXQHA4nXq8kJEsk/GQgGYDnzYzDYD9wOXmtkvgLfMbDhA8Loz2H4rMCpt/5HA9gzWF4qx8X5UlpexaN3OzjcWEellGQsFd5/j7iPdfTSpC8hPufvHgQXA7GCz2cAjwfQC4FozKzGzMUAV8Hym6guLWWo0tj9t2EVTItn5DiIivSiTZwrHMhe4zMzWA5cF8wRdaMwHXgUeA25w97y8ob+2Os6BhmaWv7437FJERNro0rMGJ8vdnwGeCaZ3kXrmoaPtbgNu642awnThuAqiEWPxujqmjRkcdjkiIq3COFMoeANKizjn1HI9ryAiWUehEJKaqjgrtu3j7YMNYZciItJKoRASD+62nfrPv2f63Kd4ePm2kCsSEVEohOLh5dv40TMbW+e37a1nzoMrFAwiEjqFQgjueHwt9U1tb0etb0pwx+NrQ6pIRCRFoRCC7Xvru7VcRKS3KBRCMKK84+Gtj7VcRKS3KBRCcOvM8ZQVte0VPGJw82XVIVUkIpKiUAjBrCmV3H7VWVSWl2FAeZ8ikg67DzeGXZqIFLheeaJZjjZrSiWzpqR6Bnd3Pv3zF/ne42uprY5TNax/yNWJSKHSmUIWMDNuv+os+pXEuGn+y+ooT0RCo1DIEvH+JfzzrIms2LaPf396Q9jliEiBUihkkQ+cNZwrJ4/g/z61gRVbuzoEtohIz1EoZJl/+vBEhvQr5qb5L3GkKS97DheRLKZQyDID+xTx3avPZv3Og9y1cF3Y5YhIgVEoZKH3jB/Kx6adyk+efY3nN+0OuxwRKSAKhSz1vz94BiMHlXHLr17mUENz2OWISIFQKGSpfiUx7rxmMm/sOcx3Hl0ddjkiUiAUClls2pjB/N1FY7hvyesapU1EeoVCIcvd/L7xjBvaj3984BX2HW4KuxwRyXMKhSxXWhTlro9Mou5gA9/8zaqwyxGRPKdQyAFnjyzns5eM46Hl23hs5Y6wyxGRPKZQyBGfvXQcEysH8JWHVlJ3oCHsckQkTykUckRRNMJdH5nMwYZm/vdDK3D3sEsSkTykUMgh1cP6c8v7qnni1bd4cNm2sMsRkTykUMgx1110GueNHsQ3F6zSmM4i0uMUCjkmGjG+f80kEu586YFXSCbVjCQiPUehkIPeNaQvX/nAGfxhw9vct2RL2OWISB5RKOSovz7/VGqq43zn0TVsfvtQ2OWISJ5QKOQoM+N7V59NUdS4+Vcvk1Azkoj0AIVCDjtlYCnfunICL27Zw0+efS3sckQkDygUctysyZVcPuEU7npiHWve3B92OSKS4xQKOc7MuO0vJtK/NMZN/+9lGpuTYZckIjlMoZAHhvQr4TtXncWrO/bzb0+tD7scEclhCoU8MXPCKVx1TiU/fGYjL72xN+xyRCRHKRTyyDc+NIGh/Uu4ef5LHGlKhF2OiOQghUIeGVhWxB1/OYmNdYf43mNrwy5HRHKQQiHPXFRVwSfe/S5++sdN/HnjrrDLEZEck7FQMLNRZva0ma02s1VmdmOwfLCZLTSz9cHroLR95pjZBjNba2YzM1VbvpvzgdMZPaQPt/zqZQ42NIddjojkkEyeKTQDN7v7GcC7gRvM7Ezgy8CT7l4FPBnME6y7FpgAXA780MyiGawvb/UpjnHnRyaxY189//zbV8MuR0RySMZCwd13uPuyYPoAsBqoBK4E5gWbzQNmBdNXAve7e4O7bwI2ANMyVV++O/ddg7m+Ziz3v/AGT615K+xyRCRH9Mo1BTMbDUwBlgDD3H0HpIIDGBpsVgm8kbbb1mBZ+/e63syWmtnSurq6jNad6754WRXjh/XnH3+9gj2HGsMuR0RyQMZDwcz6Ab8GvuDux+uHwTpYdlQvb+5+t7tPdfep8Xi8p8rMSyWxKHd+ZBJ7DjXy9QWrwi5HRHJARkPBzIpIBcJ97v5gsPgtMxserB8O7AyWbwVGpe0+EtieyfoKwcTKgdw4o4rfvLyd376iP04ROb5M3n1kwL3Aane/K23VAmB2MD0beCRt+bVmVmJmY4Aq4PlM1VdI/uE9Y5k0ciBffXglO/cfCbscEclimTxTmA58ArjUzF4K/vsAMBe4zMzWA5cF87j7KmA+8CrwGHCDu+ux3B4Qi0a48yOTqW9MMOfBFbhr7AUR6VgsU2/s7n+g4+sEADOOsc9twG2ZqqmQjRvajy9dfjrf/u2r/GrpVj5y3qjOdxKRgqMnmgvIpy4czfljBvNPv32VN3YfDrscEclCCoUCEokY379mEu7OrQ+8TFJDeIpIOwqFAjNqcB++dsWZPPfabub9eXPY5YhIllEoFKCPnjeKS8bHmfu7NWysOxh2OSKSRRQKBcjMmHv12ZQWRblp/ss0JzSEp4ikZOzuI8luwwaU8u1ZE/n8L5dzzrcXcuBIMyPKy7h15nhmTTmqdxERKRAKhQKWTDpRg/1HUt1rb9tbz5wHVwAoGEQKlJqPCtgdj68l0e4GpPqmBHc8rlHbRAqVQqGAbd9b363lIpL/FAoFbER5WYfLzeDRFTvUHYZIAVIoFLBbZ46nrKjt4HYlsQjDB5bymfuWcd28pXryWaTAKBQK2Kwpldx+1VlUlpdhQGV5Gd+9+mwW3XoJX/3gGTz32i7e9y+LuXvxRpp026pIQbBcbiKYOnWqL126NOwy8ta2vfV845GV/H71Ts4YPoDv/MVEppw6KOyyROQkmdmL7j61o3U6U5Bjqiwv4yefnMp/fPxc9hxq5Kof/YmvPbyS/Ueawi5NRDJEoSDHZWZcPvEUFt5Uw+wLRvOLJVt4752LdCFaJE8pFKRL+pcW8c0PT+Dhz0wn3r9EF6JF8pRCQbpl0qhyHrlhepsL0T9epAvRIvlCoSDdFotG+LuLT2PhTbVMH1fB7b9bw4f+7Q8se31P2KWJyElSKMgJqywv457ZU/nxJ85l7+EmrtaFaJGcp1CQkzZzwin8/uZa/ubC0dwXXIj+n1d0IVokFykUpEf0K4nxjQ9N4OEbpjN0QAk3/Pcy/vZnL+hCtEiOUShIjzp7ZDkPf2Y6X7viTJZs2s1l/7JIF6JFcohCQXpcLBrhuovG8Pubarm4Kq4L0SI5RKEgGTMieCL6x584l331uhAtkgsUCpJxMyecwsKbavnUhWO4b8kWZuhCtEjWUihIr+hXEuPrHzqTR264iGG6EC2StdRLqvS65kSSn/95C3c+sZaEO198bzUV/Yq5a+F6tu+tZ0R5GbfOHK9xokUy5Hi9pMZ6uxiRWDTC3140hssnnsI3F6zi9t+twYCWnyfb9tYz58EVAL0eDA8v38Ydj69VOEnB0pmChO6cby9k96HGo5aXFUW56pxKyoqilBVHKS2Ktk6XFUUpLYp0sKztdDRiXa7j4eXbmPPgCuqbEm1quP2qsxROkld0piBZbU8HgQBQ35Tg8VVvUt+YoL4pQfIEfr8UxyKp0GgTLJHUdCxKaRAgZUVRHlq+rU0gtNTwrd+soqw4SkksQkksSklRhOJohNKiYD4WoThYVxyLdCuIOtI+nMI6c1IwFSaFgoRuRHkZ2/bWH7W8sryMP375UgDcncZEkiONSY40J1qDor4pwZG06frGBEdap5Op9U3ttg/m9x5uarP/wYbmDuvbc7iJv/+vF7v8eYqiRnE0QklRS5C8ExolsUhrqLQETPv1//XclmOGU9+SGMWxCEVRoyQWoSgaCeZb3rPtsqKoYdb9kMqWYGqpReHUexQKErpbZ47vsNnm1pnjW+fNLPjSjDKQoozUMX3uUx2G09D+Jfz0b86joTlJQ3OCxuZkMJ2koSlBYyJJQ1Oyg/UJGpqSaesTwT5J9tc3t843pr1XQ3OS5mOcEu053MSnf9795tLi1pAwimNtQ6Q4lnptCZKW+afW7OwwmL6xYCUHG5rTzrw6bsJrWXaiodRC4dT7FAoSupZ/WGH/gztWOH3lA2cwsXJgr9Vx4dwn2b73yFHLh/Yv4d7Z59GYSAVJYyJJU8trIhUsTS3r0qcT3ma+KZGkIZE8atnhw83BtomjAqHFvvpmvvrwyi5/lmjE0oIictT1oY6WtW5fHOXOJ9Z2GE63/c9qxg3tR1E01VxXFLXgNZiPRIhGjViwLGIonLpIF5pF0mTDr8FsuOB9rLOm4QNLeeSG6RxpSh7VZNfabNeuGa9l2yPtm/Cakm2XNSY40pygKZGZ76TW4GgNjAixiBELwiMWfWc+GolQFHknaF7YvJuG5qP77+pbHOWj551KUcwoCc64itKa8IqjFjTjHX1WVhSsa13ecjaX1vwXi7Q90+qpvxvHu9CsUBDJQmGHU5jB1JRItgbKh/7tD7y1v+GobYb0LeY7V51Fc8JpTiZpTjiJpNOUTKZeE04imQxeneZEqlmuOenv7JO+vGX/Ntu9s82y1/ces97+JbHWM6+eZkZrU19R1NhX39ThDRfp19+69r66+0gkp8yaUhlqe3WYTXotv6z7lxYx5/1ndBhOX7viTGZOOCXjtbQ41plT+5shEkkPmvW8tVmvtZkukQqp9PmW6aZgn4agSbDtft46/1/Pbemwvu0d1HaiFAoi0qGwg6mlBsje603tb4aIRVPNUBRnpo6n1uzsMJxGlJf12DGyLhTM7HLgB0AUuMfd54ZckoiESOH0jq6E08nKqlAwsyjw78BlwFbgBTNb4O6vhluZiBS6QgmnrAoFYBqwwd1fAzCz+4ErAYWCiAiZD6ds6zq7EngjbX5rsKyVmV1vZkvNbGldXV2vFiciku+yLRQ6erqkzQ1Y7n63u09196nxeLyXyhIRKQzZFgpbgVFp8yOB7SHVIiJScLItFF4AqsxsjJkVA9cCC0KuSUSkYGTVhWZ3bzazzwKPk7ol9afuvirkskRECkZOd3NhZnVAx4/4dU0F8HYPlZPLNYDqaE91ZFcNoDraO5k63uXuHV6UzelQOFlmtvRY/X8UUg2qQ3Vkew2qo/fqyLZrCiIiEiKFgoiItCr0ULg77ALIjhpAdbSnOt6RDTWA6mgvI3UU9DUFERFpq9DPFEREJI1CQUREWhVcKJjZT81sp5l1ffTxzNQxysyeNrPVZrbKzG4MqY5SM3vezF4O6vhWGHUEtUTNbLmZ/TbEGjab2Qoze8nMQhvr1czKzewBM1sT/B25IIQaxgd/Di3/7TezL/R2HUEtXwz+fq40s1+aWWlIddwY1LCqN/8sOvreMrPBZrbQzNYHr4N64lgFFwrAz4DLwy4CaAZudvczgHcDN5jZmSHU0QBc6u6TgMnA5Wb27hDqALgRWB3SsdNd4u6TQ74X/QfAY+5+OjCJEP5c3H1t8OcwGTgXOAw81Nt1mFkl8HlgqrtPJNXbwbUh1DER+DSpLv4nAVeYWVUvHf5nHP299WXgSXevAp4M5k9awYWCuy8GdmdBHTvcfVkwfYDUP/peH8HDUw4Gs0XBf71+94GZjQQ+CNzT28fONmY2AKgB7gVw90Z33xtqUTAD2OjuJ9ODwMmIAWVmFgP6EE5HmWcAz7n7YXdvBhYBf9EbBz7G99aVwLxgeh4wqyeOVXChkI3MbDQwBVgS0vGjZvYSsBNY6O5h1PGvwJeAZAjHTufAE2b2opldH1INpwF1wH8GzWn3mFnfkGppcS3wyzAO7O7bgO8DrwM7gH3u/kQIpawEasxsiJn1AT5A216de9swd98BqR+ZwNCeeFOFQsjMrB/wa+AL7r4/jBrcPRE0EYwEpgWnyb3GzK4Adrr7i7153GOY7u7nAO8n1aRXE0INMeAc4EfuPgU4RA81DZyIoMfiDwO/Cun4g0j9Kh4DjAD6mtnHe7sOd18NfBdYCDwGvEyqGTivKBRCZGZFpALhPnd/MOx6giaKZ+j9ay7TgQ+b2WbgfuBSM/tFL9cAgLtvD153kmo/nxZCGVuBrWlnbA+QComwvB9Y5u5vhXT89wKb3L3O3ZuAB4ELwyjE3e9193PcvYZUc876MOoIvGVmwwGC15098aYKhZCYmZFqM17t7neFWEfczMqD6TJS/wDX9GYN7j7H3Ue6+2hSzRRPuXuv/xI0s75m1r9lGngfqSaDXuXubwJvmNn4YNEMwh2n/GOE1HQUeB14t5n1Cf7dzCCkGxLMbGjweipwFeH+uSwAZgfTs4FHeuJNs2o8hd5gZr8E3gNUmNlW4Bvufm8IpUwHPgGsCNrzAb7i7o/2ch3DgXlmFiX1I2G+u4d2S2jIhgEPpb53iAH/7e6PhVTL54D7gqab14BPhVFE0HZ+GfD3YRwfwN2XmNkDwDJSzTXLCa+riV+b2RCgCbjB3ff0xkE7+t4C5gLzzew6UsF5TY8cS91ciIhICzUfiYhIK4WCiIi0UiiIiEgrhYKIiLRSKIiISCuFgmQ1M3MzuzNt/hYz+2YPvffPzOwve+K9OjnONUFPp09nsi4zG21mf9X9CkXeoVCQbNcAXGVmFWEXki54rqOrrgM+4+6XZKqewGigW6HQzc8hBUChINmumdSDSl9sv6L9L2ozOxi8vsfMFpnZfDNbZ2Zzzeyvg3EjVpjZ2LS3ea+ZPRtsd0Wwf9TM7jCzF8zsFTP7+7T3fdrM/htY0UE9Hwvef6WZfTdY9nXgIuA/zOyODvb5UrDPy2Y2t4P1m1sC0cymmtkzwXStvTPOwfLgSey5wMXBsi929XMET3L/T1DDSjP7aFf+x0h+KrgnmiUn/Tvwipl9rxv7TCLV1fFuUk8E3+Pu0yw1mNHngC8E240GaoGxwNNmNg74JKmeOM8zsxLgj2bW0ivnNGCiu29KP5iZjSDVWdq5wB5SPa3Ocvd/MrNLgVvcfWm7fd5Pqrvj8939sJkN7sbnu4XUE7V/DDpVPEKq07xb3L0l3K7vyucws6uB7e7+wWC/gd2oQ/KMzhQk6wW9x/6c1EArXfVCMGZFA7ARaPkyXEEqCFrMd/eku68nFR6nk+rz6JNB9yNLgCFAy2Aqz7cPhMB5wDNBp23NwH2kxkQ4nvcC/+nuh4PP2Z1xPv4I3GVmnwfKg2O219XPsYLUGdN3zexid9/XjTokzygUJFf8K6m2+fRxBZoJ/g4HHaUVp61rSJtOps0naXuG3L6fFwcM+FzLqGPuPiat//5Dx6jPuvg52u/TWT8zrZ8RaB2C0t3nAn8HlAHPmdnpx3j/Tj+Hu68jdYazArg9aPKSAqVQkJwQ/IqeTyoYWmwm9WUGqf72i07gra8xs0hwneE0YC3wOPAPluraHDOrts4HuVkC1JpZRXDx9mOkRuY6nieAvw06neMYzUebeeczXt2y0MzGuvsKd/8usJTUGc4BoH/avl36HEHT12F3/wWpwWzC7KZbQqZrCpJL7gQ+mzb/E+ARM3ue1Bi1x/oVfzxrSX15DwP+l7sfMbN7SDUxLQvOQOroZKhDd99hZnOAp0n9Qn/U3Y/blbG7P2Zmk4GlZtYIPAp8pd1m3wLuNbOv0HZkvi+Y2SVAglS32r8jdRbUbGYvkxrT9wdd/BxnAXeYWZJU75//cLy6Jb+pl1QREWml5iMREWmlUBARkVYKBRERaaVQEBGRVgoFERFppVAQEZFWCgUREWn1/wGOfZDXZkedJQAAAABJRU5ErkJggg==\n",
      "text/plain": [
       "<Figure size 432x288 with 1 Axes>"
      ]
     },
     "metadata": {
      "needs_background": "light"
     },
     "output_type": "display_data"
    }
   ],
   "source": [
    "import sklearn\n",
    "from sklearn.cluster import KMeans\n",
    "\n",
    "SSE=[]\n",
    "for i in range(1,11):\n",
    "    model = KMeans(n_clusters=i,\n",
    "               init='k-means++',\n",
    "               n_init=5,\n",
    "               max_iter=10,\n",
    "               random_state=0)\n",
    "    model.fit(X)\n",
    "    SSE.append(model.inertia_)\n",
    "print(SSE)\n",
    "plt.plot(range(1,11), SSE, marker='o')\n",
    "plt.xticks(np.arange(1,11,1))\n",
    "plt.xlabel('Number of clusters')\n",
    "plt.ylabel('SSE')\n",
    "plt.show()"
   ]
  },
  {
   "cell_type": "code",
   "execution_count": null,
   "id": "1f9b1880-78af-47f6-9558-fdbaade4b854",
   "metadata": {},
   "outputs": [],
   "source": []
  },
  {
   "cell_type": "markdown",
   "id": "432d8d9c-d8e8-4006-bab8-79b23bb93bca",
   "metadata": {},
   "source": [
    "## クラスタ分析"
   ]
  },
  {
   "cell_type": "markdown",
   "id": "322812e6-0f6b-4a69-a64b-c4d92bc80a73",
   "metadata": {},
   "source": [
    "### 卸売業者のデータ分析"
   ]
  },
  {
   "cell_type": "markdown",
   "id": "526296a5-9884-4bce-ba85-172591b69e63",
   "metadata": {},
   "source": [
    "クラスタリングの利用法を学ぶために、Wholesale customers Data Setを使用します。"
   ]
  },
  {
   "cell_type": "code",
   "execution_count": 149,
   "id": "ae669aca-db87-4c24-9a23-652192f18afa",
   "metadata": {},
   "outputs": [
    {
     "data": {
      "text/html": [
       "<div>\n",
       "<style scoped>\n",
       "    .dataframe tbody tr th:only-of-type {\n",
       "        vertical-align: middle;\n",
       "    }\n",
       "\n",
       "    .dataframe tbody tr th {\n",
       "        vertical-align: top;\n",
       "    }\n",
       "\n",
       "    .dataframe thead th {\n",
       "        text-align: right;\n",
       "    }\n",
       "</style>\n",
       "<table border=\"1\" class=\"dataframe\">\n",
       "  <thead>\n",
       "    <tr style=\"text-align: right;\">\n",
       "      <th></th>\n",
       "      <th></th>\n",
       "      <th></th>\n",
       "      <th></th>\n",
       "      <th></th>\n",
       "      <th></th>\n",
       "      <th></th>\n",
       "      <th></th>\n",
       "      <th>Wholesale customers data (2)</th>\n",
       "    </tr>\n",
       "  </thead>\n",
       "  <tbody>\n",
       "    <tr>\n",
       "      <th>NaN</th>\n",
       "      <th>Channel</th>\n",
       "      <th>Region</th>\n",
       "      <th>Fresh</th>\n",
       "      <th>Milk</th>\n",
       "      <th>Grocery</th>\n",
       "      <th>Frozen</th>\n",
       "      <th>Detergents_Paper</th>\n",
       "      <td>Delicassen</td>\n",
       "    </tr>\n",
       "    <tr>\n",
       "      <th>0.0</th>\n",
       "      <th>2</th>\n",
       "      <th>3</th>\n",
       "      <th>12669</th>\n",
       "      <th>9656</th>\n",
       "      <th>7561</th>\n",
       "      <th>214</th>\n",
       "      <th>2674</th>\n",
       "      <td>1338</td>\n",
       "    </tr>\n",
       "    <tr>\n",
       "      <th>1.0</th>\n",
       "      <th>2</th>\n",
       "      <th>3</th>\n",
       "      <th>7057</th>\n",
       "      <th>9810</th>\n",
       "      <th>9568</th>\n",
       "      <th>1762</th>\n",
       "      <th>3293</th>\n",
       "      <td>1776</td>\n",
       "    </tr>\n",
       "    <tr>\n",
       "      <th>2.0</th>\n",
       "      <th>2</th>\n",
       "      <th>3</th>\n",
       "      <th>6353</th>\n",
       "      <th>8808</th>\n",
       "      <th>7684</th>\n",
       "      <th>2405</th>\n",
       "      <th>3516</th>\n",
       "      <td>7844</td>\n",
       "    </tr>\n",
       "    <tr>\n",
       "      <th>3.0</th>\n",
       "      <th>1</th>\n",
       "      <th>3</th>\n",
       "      <th>13265</th>\n",
       "      <th>1196</th>\n",
       "      <th>4221</th>\n",
       "      <th>6404</th>\n",
       "      <th>507</th>\n",
       "      <td>1788</td>\n",
       "    </tr>\n",
       "  </tbody>\n",
       "</table>\n",
       "</div>"
      ],
      "text/plain": [
       "                                                                Wholesale customers data (2)\n",
       "NaN   Channel Region Fresh Milk Grocery Frozen Detergents_Paper                   Delicassen\n",
       "0.0   2       3      12669 9656 7561    214    2674                                     1338\n",
       "1.0   2       3      7057  9810 9568    1762   3293                                     1776\n",
       "2.0   2       3      6353  8808 7684    2405   3516                                     7844\n",
       "3.0   1       3      13265 1196 4221    6404   507                                      1788"
      ]
     },
     "execution_count": 149,
     "metadata": {},
     "output_type": "execute_result"
    }
   ],
   "source": [
    "import pandas as pd\n",
    "df = pd.read_csv('Wholesale customers data (2).csv')\n",
    "\n",
    "df.head()\n"
   ]
  },
  {
   "cell_type": "code",
   "execution_count": null,
   "id": "5ff6869d-f21a-4aaf-8d2c-edda2dcd6fd2",
   "metadata": {},
   "outputs": [],
   "source": []
  }
 ],
 "metadata": {
  "kernelspec": {
   "display_name": "Python 3",
   "language": "python",
   "name": "python3"
  },
  "language_info": {
   "codemirror_mode": {
    "name": "ipython",
    "version": 3
   },
   "file_extension": ".py",
   "mimetype": "text/x-python",
   "name": "python",
   "nbconvert_exporter": "python",
   "pygments_lexer": "ipython3",
   "version": "3.8.8"
  }
 },
 "nbformat": 4,
 "nbformat_minor": 5
}
